{
 "cells": [
  {
   "cell_type": "markdown",
   "metadata": {},
   "source": [
    "# Selecting the data\n",
    "\n",
    "This notebook sole purpose it is to select a specified number of images for further analysis. It only needs to be run once, and the paths in the cells refer specifically to my personal desktop computer, so if you need to run in again for some reason, you will need to put in the paths to the data where it lies on your computer"
   ]
  },
  {
   "cell_type": "code",
   "execution_count": 3,
   "metadata": {},
   "outputs": [],
   "source": [
    "import os\n",
    "import shutil"
   ]
  },
  {
   "cell_type": "code",
   "execution_count": 10,
   "metadata": {},
   "outputs": [],
   "source": [
    "#selecting files\n",
    "def selecting_files(source,destination):\n",
    "    i = 31\n",
    "    for filename in os.listdir(source):\n",
    "        i = i + 1\n",
    "        if filename.endswith(\".fits\") and i > 30:\n",
    "            shutil.move(source + '/' + filename,destination)\n",
    "            i = 0\n",
    "        else:\n",
    "            continue"
   ]
  },
  {
   "cell_type": "code",
   "execution_count": 13,
   "metadata": {},
   "outputs": [],
   "source": [
    "source = 'F:/data/jupiter'\n",
    "destination = 'F:/data/jupiter/selected'\n",
    "\n",
    "selecting_files(source,destination)"
   ]
  },
  {
   "cell_type": "markdown",
   "metadata": {},
   "source": [
    "### Partners: \n",
    "* Diana Dalae (45612226)\n",
    "* Dan Barron-Hyland"
   ]
  },
  {
   "cell_type": "code",
   "execution_count": null,
   "metadata": {},
   "outputs": [],
   "source": []
  }
 ],
 "metadata": {
  "kernelspec": {
   "display_name": "Python 3",
   "language": "python",
   "name": "python3"
  },
  "language_info": {
   "codemirror_mode": {
    "name": "ipython",
    "version": 3
   },
   "file_extension": ".py",
   "mimetype": "text/x-python",
   "name": "python",
   "nbconvert_exporter": "python",
   "pygments_lexer": "ipython3",
   "version": "3.8.3"
  }
 },
 "nbformat": 4,
 "nbformat_minor": 4
}
