{
 "cells": [
  {
   "cell_type": "code",
   "execution_count": 1,
   "metadata": {},
   "outputs": [],
   "source": [
    "import numpy as np\n",
    "import matplotlib.pyplot as plt\n",
    "import pandas as pd\n",
    "import os\n",
    "from astropy.io import fits"
   ]
  },
  {
   "cell_type": "markdown",
   "metadata": {},
   "source": [
    "### Calculating bias"
   ]
  },
  {
   "cell_type": "code",
   "execution_count": 2,
   "metadata": {},
   "outputs": [],
   "source": [
    "#function to get the data from fits files\n",
    "def get_data(file):\n",
    "    foo = fits.open(file)\n",
    "    return foo[0].data"
   ]
  },
  {
   "cell_type": "code",
   "execution_count": 10,
   "metadata": {},
   "outputs": [],
   "source": [
    "#function to calculate bias average value and standard deviation\n",
    "#code credit: https://stackoverflow.com/questions/10377998/how-can-i-iterate-over-files-in-a-given-directory\n",
    "def bias_calc(directory):\n",
    "    averages = []\n",
    "    stds = []\n",
    "    for filename in os.listdir(directory):\n",
    "        if filename.endswith(\".fits\"):\n",
    "              averages.append(get_data(directory + '/' + filename).mean())\n",
    "              stds.append(get_data(directory + '/' + filename).std())\n",
    "    avg = np.array([averages])\n",
    "    stan = np.array([stds])\n",
    "    mean = avg.mean()\n",
    "    std = stan.mean()\n",
    "    return mean,std"
   ]
  },
  {
   "cell_type": "code",
   "execution_count": 7,
   "metadata": {},
   "outputs": [],
   "source": [
    "#directories for the bias data\n",
    "bias_directory_008 = 'data/darks/0.008'\n",
    "bias_directory_009 = 'data/darks/0.009'"
   ]
  },
  {
   "cell_type": "code",
   "execution_count": 11,
   "metadata": {},
   "outputs": [],
   "source": [
    "#biases for 0.008 s and 0.009 s exposures \n",
    "bias_008,std_008 = bias_calc(bias_directory_008)\n",
    "bias_009,std_009 = bias_calc(bias_directory_009)"
   ]
  },
  {
   "cell_type": "code",
   "execution_count": 12,
   "metadata": {},
   "outputs": [
    {
     "name": "stdout",
     "output_type": "stream",
     "text": [
      "766.3802704883889\n",
      "28.476783627343334\n",
      "766.4963268640007\n",
      "28.424245044490817\n"
     ]
    }
   ],
   "source": [
    "print(bias_008)\n",
    "print(std_008)\n",
    "print(bias_009)\n",
    "print(std_009)"
   ]
  },
  {
   "cell_type": "markdown",
   "metadata": {},
   "source": [
    "### Jupiter Data"
   ]
  },
  {
   "cell_type": "code",
   "execution_count": 49,
   "metadata": {},
   "outputs": [],
   "source": [
    "jupiter_directory = 'data/jupiter'"
   ]
  },
  {
   "cell_type": "code",
   "execution_count": 50,
   "metadata": {},
   "outputs": [],
   "source": [
    "def multiple_fits(directory):    \n",
    "    images = []\n",
    "    for filename in os.listdir(directory):\n",
    "        images.append(get_data(directory + '/' + filename))\n",
    "    data = np.array([images])\n",
    "    return data"
   ]
  },
  {
   "cell_type": "code",
   "execution_count": 51,
   "metadata": {},
   "outputs": [],
   "source": [
    "jupiter_data = multiple_fits(jupiter_directory)"
   ]
  },
  {
   "cell_type": "code",
   "execution_count": 52,
   "metadata": {},
   "outputs": [
    {
     "data": {
      "text/plain": [
       "<matplotlib.image.AxesImage at 0x296468839a0>"
      ]
     },
     "execution_count": 52,
     "metadata": {},
     "output_type": "execute_result"
    },
    {
     "data": {
      "image/png": "[encoded data removed]",
      "text/plain": [
       "<Figure size 432x288 with 1 Axes>"
      ]
     },
     "metadata": {
      "needs_background": "light"
     },
     "output_type": "display_data"
    }
   ],
   "source": [
    "#the first image\n",
    "plt.imshow(jupiter_data[0][0])"
   ]
  },
  {
   "cell_type": "code",
   "execution_count": null,
   "metadata": {},
   "outputs": [],
   "source": []
  }
 ],
 "metadata": {
  "kernelspec": {
   "display_name": "Python 3",
   "language": "python",
   "name": "python3"
  },
  "language_info": {
   "codemirror_mode": {
    "name": "ipython",
    "version": 3
   },
   "file_extension": ".py",
   "mimetype": "text/x-python",
   "name": "python",
   "nbconvert_exporter": "python",
   "pygments_lexer": "ipython3",
   "version": "3.8.3"
  }
 },
 "nbformat": 4,
 "nbformat_minor": 4
}
