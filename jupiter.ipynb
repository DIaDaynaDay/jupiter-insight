{
 "cells": [
  {
   "cell_type": "code",
   "execution_count": 104,
   "metadata": {},
   "outputs": [],
   "source": [
    "import numpy as np\n",
    "import matplotlib.pyplot as plt\n",
    "import pandas as pd\n",
    "import os\n",
    "import cv2 \n",
    "from glob import glob\n",
    "from astropy.io import fits\n",
    "from photutils import centroid_sources, centroid_com, centroid_quadratic"
   ]
  },
  {
   "cell_type": "markdown",
   "metadata": {},
   "source": [
    "### Calculating bias"
   ]
  },
  {
   "cell_type": "code",
   "execution_count": 3,
   "metadata": {},
   "outputs": [],
   "source": [
    "#function to get the data from fits files\n",
    "def get_data(file):\n",
    "    foo = fits.open(file)\n",
    "    return foo[0].data"
   ]
  },
  {
   "cell_type": "code",
   "execution_count": 4,
   "metadata": {},
   "outputs": [],
   "source": [
    "def open_fits(directory):\n",
    "    files =[]\n",
    "    for filename in os.listdir(directory):\n",
    "        if filename.endswith(\".fits\"):\n",
    "              foo = fits.open(directory + '/' + filename)[0]\n",
    "              files.append(foo)\n",
    "    return files"
   ]
  },
  {
   "cell_type": "code",
   "execution_count": 5,
   "metadata": {},
   "outputs": [],
   "source": [
    "#function to calculate bias average value and standard deviation\n",
    "#code credit: https://stackoverflow.com/questions/10377998/how-can-i-iterate-over-files-in-a-given-directory\n",
    "def bias_calc(directory):\n",
    "    averages = []\n",
    "    stds = []\n",
    "    for filename in os.listdir(directory):\n",
    "        if filename.endswith(\".fits\"):\n",
    "              averages.append(get_data(directory + '/' + filename).mean())\n",
    "              stds.append(get_data(directory + '/' + filename).std())\n",
    "    avg = np.array([averages])\n",
    "    stan = np.array([stds])\n",
    "    mean = avg.mean()\n",
    "    std = stan.mean()\n",
    "    return mean,std"
   ]
  },
  {
   "cell_type": "code",
   "execution_count": 6,
   "metadata": {},
   "outputs": [],
   "source": [
    "#directories for the bias data\n",
    "bias_directory_008 = 'data/darks/0.008'\n",
    "bias_directory_009 = 'data/darks/0.009'"
   ]
  },
  {
   "cell_type": "code",
   "execution_count": 7,
   "metadata": {},
   "outputs": [],
   "source": [
    "#biases for 0.008 s and 0.009 s exposures \n",
    "bias_008,std_008 = bias_calc(bias_directory_008)\n",
    "bias_009,std_009 = bias_calc(bias_directory_009)"
   ]
  },
  {
   "cell_type": "code",
   "execution_count": 8,
   "metadata": {},
   "outputs": [
    {
     "name": "stdout",
     "output_type": "stream",
     "text": [
      "766.3802704883889\n",
      "28.476783627343334\n",
      "766.4963268640007\n",
      "28.424245044490817\n"
     ]
    }
   ],
   "source": [
    "print(bias_008)\n",
    "print(std_008)\n",
    "print(bias_009)\n",
    "print(std_009)"
   ]
  },
  {
   "cell_type": "markdown",
   "metadata": {},
   "source": [
    "### Jupiter Data"
   ]
  },
  {
   "cell_type": "code",
   "execution_count": 9,
   "metadata": {},
   "outputs": [],
   "source": [
    "jupiter_directory = 'data/jupiter'"
   ]
  },
  {
   "cell_type": "code",
   "execution_count": 10,
   "metadata": {},
   "outputs": [],
   "source": [
    "#put all our images in a single array of arrays. Then we can access each individual image using index\n",
    "def multiple_fits(directory):    \n",
    "    images = []\n",
    "    for filename in os.listdir(directory):\n",
    "        images.append(get_data(directory + '/' + filename))\n",
    "    data = np.array(images)\n",
    "    return data"
   ]
  },
  {
   "cell_type": "code",
   "execution_count": 11,
   "metadata": {},
   "outputs": [],
   "source": [
    "jupiter_data = multiple_fits(jupiter_directory)"
   ]
  },
  {
   "cell_type": "code",
   "execution_count": 49,
   "metadata": {},
   "outputs": [
    {
     "data": {
      "text/plain": [
       "<matplotlib.image.AxesImage at 0x1f9126b99d0>"
      ]
     },
     "execution_count": 49,
     "metadata": {},
     "output_type": "execute_result"
    },
    {
     "data": {
      "image/png": "[encoded data removed]",
      "text/plain": [
       "<Figure size 432x288 with 1 Axes>"
      ]
     },
     "metadata": {
      "needs_background": "light"
     },
     "output_type": "display_data"
    }
   ],
   "source": [
    "#the first image\n",
    "plt.imshow(jupiter_data[0])"
   ]
  },
  {
   "cell_type": "code",
   "execution_count": 50,
   "metadata": {
    "scrolled": true
   },
   "outputs": [
    {
     "data": {
      "text/plain": [
       "<matplotlib.image.AxesImage at 0x1f914653f10>"
      ]
     },
     "execution_count": 50,
     "metadata": {},
     "output_type": "execute_result"
    },
    {
     "data": {
      "image/png": "[encoded data removed]",
      "text/plain": [
       "<Figure size 432x288 with 1 Axes>"
      ]
     },
     "metadata": {
      "needs_background": "light"
     },
     "output_type": "display_data"
    }
   ],
   "source": [
    "plt.imshow(jupiter_data[21])"
   ]
  },
  {
   "cell_type": "code",
   "execution_count": 192,
   "metadata": {},
   "outputs": [],
   "source": [
    "jupiter_data = jupiter_data - bias_008"
   ]
  },
  {
   "cell_type": "code",
   "execution_count": 193,
   "metadata": {
    "scrolled": true
   },
   "outputs": [
    {
     "name": "stdout",
     "output_type": "stream",
     "text": [
      "2198.6748305827 1941.4548058509636\n"
     ]
    }
   ],
   "source": [
    "#calculating the centroid of the reference image\n",
    "x0, y0 = centroid_quadratic(jupiter_data[0], fit_boxsize = 1000)\n",
    "print(x0,y0)"
   ]
  },
  {
   "cell_type": "code",
   "execution_count": 194,
   "metadata": {},
   "outputs": [],
   "source": [
    "#calculate centroids of the rest of the images and put them in arrays\n",
    "def calculate_centroids(data):\n",
    "    xcoor = []\n",
    "    ycoor = []\n",
    "    for child in data[1:]:\n",
    "        x,y = centroid_quadratic(child, fit_boxsize = 1000)\n",
    "        xcoor.append(x)\n",
    "        ycoor.append(y)\n",
    "    xcen = np.array(xcoor)\n",
    "    ycen = np.array(ycoor)\n",
    "    return xcen,ycen"
   ]
  },
  {
   "cell_type": "code",
   "execution_count": 195,
   "metadata": {},
   "outputs": [],
   "source": [
    "centroids_x,centroids_y = calculate_centroids(jupiter_data)"
   ]
  },
  {
   "cell_type": "code",
   "execution_count": 196,
   "metadata": {},
   "outputs": [],
   "source": [
    "#calculating positional offsets compared to the reference image\n",
    "xoffset =  -(centroids_x - x0)\n",
    "yoffset =  -(centroids_y - y0)"
   ]
  },
  {
   "cell_type": "code",
   "execution_count": 197,
   "metadata": {
    "scrolled": true
   },
   "outputs": [
    {
     "data": {
      "text/plain": [
       "array([ 32.95135038,  55.6734321 ,  74.96988243, 111.62709168,\n",
       "       128.27346698, 156.25114497, 186.46214335, 218.37685254,\n",
       "       264.1243004 , 282.82268273, 300.50792316, 335.11586839,\n",
       "       351.75151372, 363.35780234, 377.12516025, 386.65404679,\n",
       "       390.48152795, 392.22020898, 386.23340337, 365.3923367 ,\n",
       "       356.51082789])"
      ]
     },
     "execution_count": 197,
     "metadata": {},
     "output_type": "execute_result"
    }
   ],
   "source": [
    "xoffset"
   ]
  },
  {
   "cell_type": "code",
   "execution_count": 198,
   "metadata": {},
   "outputs": [],
   "source": [
    "#constructing a linear transformation matrices to be applied to source images\n",
    "def transformation_matrices(xoffset,yoffset,):\n",
    "    m = []\n",
    "    for i in range(len(xoffset)):\n",
    "        foo = np.array([[1, 0, xoffset[i]], [0, 1, yoffset[i]]]) \n",
    "        m.append(foo)\n",
    "    M = np.array(m)\n",
    "    return M"
   ]
  },
  {
   "cell_type": "code",
   "execution_count": 199,
   "metadata": {},
   "outputs": [
    {
     "data": {
      "text/plain": [
       "array([[  1.        ,   0.        ,  32.95135038],\n",
       "       [  0.        ,   1.        , -14.51444314]])"
      ]
     },
     "execution_count": 199,
     "metadata": {},
     "output_type": "execute_result"
    }
   ],
   "source": [
    "lintrans = transformation_matrices(xoffset,yoffset)\n",
    "lintrans[0]"
   ]
  },
  {
   "cell_type": "code",
   "execution_count": 200,
   "metadata": {},
   "outputs": [],
   "source": [
    "rows, cols = jupiter_data[0].shape[:2] "
   ]
  },
  {
   "cell_type": "code",
   "execution_count": 201,
   "metadata": {},
   "outputs": [],
   "source": [
    "#shifting the rest of the images by offsets in comparison with the reference image\n",
    "def image_registration(data,M,rows,cols):\n",
    "    res = []\n",
    "    for i in range(1,len(data)):\n",
    "        foo = cv2.warpAffine(jupiter_data[i], M[i-1], (cols, rows)) \n",
    "        res.append(foo)\n",
    "    out = np.array(res)\n",
    "    return out"
   ]
  },
  {
   "cell_type": "code",
   "execution_count": 202,
   "metadata": {},
   "outputs": [],
   "source": [
    "new_jupiter_data = image_registration(jupiter_data,lintrans,rows,cols)"
   ]
  },
  {
   "cell_type": "code",
   "execution_count": 203,
   "metadata": {},
   "outputs": [],
   "source": [
    "#if we need to actually write the files back to fits. Headers are not preserved unfortunately, might solve this later if needed\n",
    "def write_to_fits(directory,data):\n",
    "    name = 'jupiter'\n",
    "    fitslist = []\n",
    "    for i in range(len(data)):\n",
    "        foo = fits.PrimaryHDU(data[i])\n",
    "        fitslist.append(foo)\n",
    "    for i in range(len(fitslist)):    \n",
    "        fitslist[i].writeto(directory + '/' + name + str(i) + '.fits')   "
   ]
  },
  {
   "cell_type": "code",
   "execution_count": 204,
   "metadata": {},
   "outputs": [
    {
     "data": {
      "text/plain": [
       "(3520, 4656)"
      ]
     },
     "execution_count": 204,
     "metadata": {},
     "output_type": "execute_result"
    }
   ],
   "source": [
    "ref_img = np.array(jupiter_data[0])\n",
    "ref_img.shape"
   ]
  },
  {
   "cell_type": "code",
   "execution_count": 205,
   "metadata": {},
   "outputs": [],
   "source": [
    "#getting out new dataset together\n",
    "jupiter_centred_data = np.concatenate(([ref_img], new_jupiter_data))"
   ]
  },
  {
   "cell_type": "code",
   "execution_count": 209,
   "metadata": {},
   "outputs": [],
   "source": [
    "#uncomment if you need to write the centred images to .fits files\n",
    "#jupiter_centred = 'data/jupiter_centred'\n",
    "#write_to_fits(jupiter_centred,jupiter_centred_data)"
   ]
  },
  {
   "cell_type": "code",
   "execution_count": 210,
   "metadata": {},
   "outputs": [
    {
     "data": {
      "text/plain": [
       "<matplotlib.image.AxesImage at 0x1f9184dbca0>"
      ]
     },
     "execution_count": 210,
     "metadata": {},
     "output_type": "execute_result"
    },
    {
     "data": {
      "image/png": "[encoded data removed]",
      "text/plain": [
       "<Figure size 432x288 with 1 Axes>"
      ]
     },
     "metadata": {
      "needs_background": "light"
     },
     "output_type": "display_data"
    }
   ],
   "source": [
    "plt.imshow(jupiter_centred_data[0])"
   ]
  },
  {
   "cell_type": "code",
   "execution_count": 211,
   "metadata": {},
   "outputs": [
    {
     "data": {
      "text/plain": [
       "<matplotlib.image.AxesImage at 0x1f918646700>"
      ]
     },
     "execution_count": 211,
     "metadata": {},
     "output_type": "execute_result"
    },
    {
     "data": {
      "image/png": "[encoded data removed]",
      "text/plain": [
       "<Figure size 432x288 with 1 Axes>"
      ]
     },
     "metadata": {
      "needs_background": "light"
     },
     "output_type": "display_data"
    }
   ],
   "source": [
    "plt.imshow(jupiter_centred_data[21])"
   ]
  },
  {
   "cell_type": "code",
   "execution_count": null,
   "metadata": {},
   "outputs": [],
   "source": [
    "\n"
   ]
  }
 ],
 "metadata": {
  "kernelspec": {
   "display_name": "Python 3",
   "language": "python",
   "name": "python3"
  },
  "language_info": {
   "codemirror_mode": {
    "name": "ipython",
    "version": 3
   },
   "file_extension": ".py",
   "mimetype": "text/x-python",
   "name": "python",
   "nbconvert_exporter": "python",
   "pygments_lexer": "ipython3",
   "version": "3.8.3"
  }
 },
 "nbformat": 4,
 "nbformat_minor": 4
}
